{
 "cells": [
  {
   "cell_type": "markdown",
   "metadata": {},
   "source": [
    "# Desafio Codenation: Melhores notas de matemática do ENEM 2016"
   ]
  },
  {
   "cell_type": "markdown",
   "metadata": {},
   "source": [
    "### Bibliotecas básicas"
   ]
  },
  {
   "cell_type": "code",
   "execution_count": 1,
   "metadata": {
    "ExecuteTime": {
     "end_time": "2020-05-23T15:31:44.040596Z",
     "start_time": "2020-05-23T15:31:43.604012Z"
    }
   },
   "outputs": [],
   "source": [
    "import numpy as np\n",
    "import pandas as pd\n",
    "import seaborn as sns\n",
    "import matplotlib.pyplot as plt\n",
    "\n",
    "%matplotlib inline\n",
    "\n",
    "import warnings\n",
    "warnings.filterwarnings('ignore')"
   ]
  },
  {
   "cell_type": "markdown",
   "metadata": {},
   "source": [
    "### Dicionário dos dados"
   ]
  },
  {
   "cell_type": "markdown",
   "metadata": {},
   "source": [
    "- **`NU_INSCRICAO`**: Número de inscrição\n",
    "- **`NU_ANO`**: Ano do Enem\n",
    "- **`CO_MUNICIPIO_RESIDENCIA`**: Código do município de residência \n",
    "- **`NO_MUNICIPIO_RESIDENCIA`**: Nome do município de residência\n",
    "- **`CO_UF_RESIDENCIA`**: Código da UF de residência\n",
    "- **`SG_UF_RESIDENCIA`**: Sigla da UF de residência\n",
    "- **`NU_IDADE`**: Idade\n",
    "- **`TP_SEXO`**: Sexo\n",
    "- **`TP_ESTADO_CIVIL`**: Estado Civil\n",
    "- **`TP_COR_RACA`**: Cor/raça\n",
    "- **`TP_NACIONALIDADE`**: Nacionalidade\n",
    "- **`CO_MUNICIPIO_NASCIMENTO`**: Código do município de nascimento\n",
    "- **`NO_MUNICIPIO_NASCIMENTO`**: Nome do município de nascimento\n",
    "- **`CO_UF_NASCIMENTO`**: Código da UF de nascimento\n",
    "- **`SG_UF_NASCIMENTO`**: Sigla da UF de nascimento\n",
    "- **`TP_ST_CONCLUSAO`**: Situação de conclusão do Ensino Médio\n",
    "- **`TP_ANO_CONCLUIU`**: Ano de Conclusão do Ensino Médio\n",
    "- **`TP_ESCOLA`**: Tipo de escola do Ensino Médio\n",
    "- **`TP_ENSINO`**: Tipo de instituição que concluiu ou concluirá o Ensino Médio \n",
    "- **`IN_TREINEIRO`**: Indica se o inscrito fez a prova com intuito de apenas treinar seus conhecimentos\n",
    "- **`CO_ESCOLA`**: Código da Escola\n",
    "- **`CO_MUNICIPIO_ESC`**: Código do município da escola \n",
    "- **`NO_MUNICIPIO_ESC`**: Nome do município da escola\n",
    "- **`CO_UF_ESC`**: Código da UF da escola\n",
    "- **`SG_UF_ESC`**: Sigla da UF da escola\n",
    "- **`TP_DEPENDENCIA_ADM_ESC`**: Dependência administrativa (Escola)\n",
    "- **`TP_LOCALIZACAO_ESC`**: Localização (Escola)\n",
    "- **`TP_SIT_FUNC_ESC`**: Situação de funcionamento (Escola)\n",
    "- **`IN_BAIXA_VISAO`**: Indicador de baixa visão\n",
    "- **`IN_CEGUEIRA`**: Indicador de cegueira\n",
    "- **`IN_SURDEZ`**: Indicador de surdez\n",
    "- **`IN_DEFICIENCIA_AUDITIVA`**: Indicador de deficiência auditiva\n",
    "- **`IN_SURDO_CEGUEIRA`**: Indicador de surdo-cegueira\n",
    "- **`IN_DEFICIENCIA_FISICA`**: Indicador de deficiência física\n",
    "- **`IN_DEFICIENCIA_MENTAL`**: Indicador de deficiência mental\n",
    "- **`IN_DEFICIT_ATENCAO`**: Indicador de déficit de atenção\n",
    "- **`IN_DISLEXIA`**: Indicador de dislexia\n",
    "- **`IN_DISCALCULIA`**: Indicador de discalculia\n",
    "- **`IN_AUTISMO`**: Indicador de autismo\n",
    "- **`IN_VISAO_MONOCULAR`**: Indicador de visão monocular\n",
    "- **`IN_GESTANTE`**: Indicador de gestante\n",
    "- **`IN_LACTANTE`**: Indicador de lactante\n",
    "- **`IN_IDOSO`**: Indicador de inscrito idoso\n",
    "- **`IN_ESTUDA_CLASSE_HOSPITALAR`**: Indicador de inscrição em Unidade Hospitalar\n",
    "- **`IN_SEM_RECURSO`**: Indicador de inscrito que não requisitou nenhum recurso\n",
    "- **`IN_BRAILLE`**: Indicador de solicitação de prova em braille\n",
    "- **`IN_AMPLIADA_24`**: Indicador de solicitação de prova superampliada com fonte tamanho\n",
    "- **`IN_AMPLIADA_18`**: Indicador de solicitação de prova ampliada com fonte tamanho\n",
    "- **`IN_LEDOR`**: Indicador de solicitação de auxílio para leitura (ledor)\n",
    "- **`IN_ACESSO`**: Indicador de solicitação de sala de fácil acesso\n",
    "- **`IN_TRANSCRICAO`**: Indicador de solicitação de auxílio para transcrição\n",
    "- **`IN_LIBRAS`**: Indicador de solicitação de Tradutor- Intérprete Libras\n",
    "- **`IN_LEITURA_LABIAL`**: Indicador de solicitação de leitura labial\n",
    "- **`IN_MESA_CADEIRA_RODAS`**: Indicador de solicitação de mesa para cadeira de rodas\n",
    "- **`IN_MESA_CADEIRA_SEPARADA`**: Indicador de solicitação de mesa e cadeira separada\n",
    "- **`IN_APOIO_PERNA`**: Indicador de solicitação de apoio de perna e pé\n",
    "- **`IN_GUIA_INTERPRETE`**: Indicador de solicitação de guia intérprete\n",
    "- **`IN_MACA`**: Indicador de solicitação de maca\n",
    "- **`IN_COMPUTADOR`**: Indicador de solicitação de computador\n",
    "- **`IN_CADEIRA_ESPECIAL`**: Indicador de solicitação de cadeira especial\n",
    "- **`IN_CADEIRA_CANHOTO`**: Indicador de solicitação de cadeira para canhoto\n",
    "- **`IN_CADEIRA_ACOLCHOADA`**: Indicador de solicitação de cadeira acolchoada\n",
    "- **`IN_PROVA_DEITADO`**: Indicador de solicitação para fazer prova deitado em maca ou mobiliário similar\n",
    "- **`IN_MOBILIARIO_OBESO`**: Indicador de solicitação de mobiliário adequado para obeso\n",
    "- **`IN_LAMINA_OVERLAY`**: Indicador de solicitação de lâmina overlay\n",
    "- **`IN_PROTETOR_AURICULAR`**: Indicador de solicitação de protetor auricular\n",
    "- **`IN_MEDIDOR_GLICOSE`**: Indicador de solicitação de medidor de glicose e/ou aplicação de insulina\n",
    "- **`IN_MAQUINA_BRAILE`**: Indicador de solicitação de máquina Braile e/ou Reglete e Punção\n",
    "- **`IN_SOROBAN`**: Indicador de solicitação de soroban\n",
    "- **`IN_MARCA_PASSO`**: Indicador de solicitação de marca-passo (impeditivo de uso de detector de metais)\n",
    "- **`IN_SONDA`**: Indicador de solicitação de sonda com troca periódica\n",
    "- **`IN_MEDICAMENTOS`**: Indicador de solicitação de medicamentos\n",
    "- **`IN_SALA_INDIVIDUAL`**: Indicador de solicitação de sala especial individual\n",
    "- **`IN_SALA_ESPECIAL`**: Indicador de solicitação de sala especial até 20 participantes\n",
    "- **`IN_SALA_ACOMPANHANTE`**: Indicador de solicitação de sala reservada para acompanhantes\n",
    "- **`IN_MOBILIARIO_ESPECIFICO`**: Indicador de solicitação de mobiliário específico\n",
    "- **`IN_MATERIAL_ESPECIFICO`**: Indicador de solicitação de material específico\n",
    "- **`IN_NOME_SOCIAL`**: Indicador de inscrito que se declarou travesti, transexual ou transgênero e solicitou atendimento pelo Nome Social\n",
    "- **`IN_CERTIFICADO`**: Indicador de solicitação de certificação no Ensino Médio\n",
    "- **`NO_ENTIDADE_CERTIFICACAO`**: Nome da Entidade Certificadora\n",
    "- **`CO_UF_ENTIDADE_CERTIFICACAO`**: Código da Unidade da Federação da Entidade Certificadora\n",
    "- **`SG_UF_ENTIDADE_CERTIFICACAO`**: Sigla da Unidade da Federação da Entidade Certificadora\n",
    "- **`CO_MUNICIPIO_PROVA`**: Código do município da aplicação da prova\n",
    "- **`NO_MUNICIPIO_PROVA`**: Nome do município da aplicação da prova\n",
    "- **`CO_UF_PROVA`**: Código da Unidade da Federação da aplicação da prova\n",
    "- **`SG_UF_PROVA`**: Sigla da Unidade da Federação da aplicação da prova\n",
    "- **`TP_PRESENCA_CN`**: Presença na prova objetiva de Ciências da Natureza\n",
    "- **`TP_PRESENCA_CH`**: Presença na prova objetiva de Ciências Humanas\n",
    "- **`TP_PRESENCA_LC`**: Presença na prova objetiva de Linguagens e Códigos\n",
    "- **`TP_PRESENCA_MT`**: Presença na prova objetiva de Matemática\n",
    "- **`CO_PROVA_CN`**: Código do tipo de prova de Ciências da Natureza \n",
    "- **`CO_PROVA_CH`**: Código do tipo de prova de Ciências Humanas \n",
    "- **`CO_PROVA_LC`**: Código do tipo de prova de Linguagens e Códigos \n",
    "- **`CO_PROVA_MT`**: Código do tipo de prova de Matemática \n",
    "- **`NU_NOTA_CN`**: Nota da prova de Ciências da Natureza\n",
    "- **`NU_NOTA_CH`**: Nota da prova de Ciências Humanas\n",
    "- **`NU_NOTA_LC`**: Nota da prova de Linguagens e Códigos\n",
    "- **`NU_NOTA_MT`**: Nota da prova de Matemática\n",
    "- **`TX_RESPOSTAS_CN`**: Vetor com as respostas da parte objetiva da prova de Ciências da Natureza\n",
    "- **`TX_RESPOSTAS_CH`**: Vetor com as respostas da parte objetiva da prova de Ciências Humanas\n",
    "- **`TX_RESPOSTAS_LC`**: Vetor com as respostas da parte objetiva da prova de Linguagens e Códigos\n",
    "- **`TX_RESPOSTAS_MT`**: Vetor com as respostas da parte objetiva da prova de Matemática\n",
    "- **`TP_LINGUA`**: Língua Estrangeira\n",
    "- **`TX_GABARITO_CN`**: Vetor com o gabarito da parte objetiva da prova de Ciências da Natureza\n",
    "- **`TX_GABARITO_CH`**: Vetor com o gabarito da parte objetiva da prova de Ciências Humanas\n",
    "- **`TX_GABARITO_LC`**: Vetor com o gabarito da parte objetiva da prova de Linguagens e Códigos \n",
    "- **`TX_GABARITO_MT`**: Vetor com o gabarito da parte objetiva da prova de Matemática\n",
    "- **`TP_STATUS_REDACAO`**: Situação da redação do participante\n",
    "- **`NU_NOTA_COMP1`**: Nota da competência 1 - Demonstrar domínio da modalidade escrita formal da Língua Portuguesa.\n",
    "- **`NU_NOTA_COMP2`**: Nota da competência 2 - Compreender a proposta de redação e aplicar conceitos das várias áreas de conhecimento para desenvolver o tema, dentro dos limites estruturais do texto dissertativo-argumentativo em prosa.\n",
    "- **`NU_NOTA_COMP3`**: Nota da competência 3 - Selecionar, relacionar, organizar e interpretar informações, fatos, opiniões e argumentos em defesa de um ponto de vista.\n",
    "- **`NU_NOTA_COMP4`**: Nota da competência 4 - Demonstrar conhecimento dos mecanismos linguísticos necessários para a construção da argumentação.\n",
    "- **`NU_NOTA_COMP5`**: Nota da competência  - Elaborar proposta de intervenção para o problema abordado, respeitando os direitos humanos.\n",
    "- **`NU_NOTA_REDACAO`**: Nota da prova de redação\n",
    "- **`Q001`**: Até que série seu pai, ou o homem responsável por você, estudou?\n",
    "- **`Q002`**: Até que série sua mãe, ou a mulher responsável por você, estudou? \n",
    "- **`Q003`**: A partir da apresentação de algumas ocupações divididas em grupos ordenados, indique o grupo que contempla a ocupação mais próxima da ocupação do seu pai ou do homem responsável por você. (Se ele não estiver trabalhando, escolha uma ocupação pensando no último trabalho dele). \n",
    "- **`Q004`**: A partir da apresentação de algumas ocupações divididas em grupos ordenados, indique o grupo que contempla a ocupação mais próxima da ocupação da sua mãe ou da mulher responsável por você. (Se ela não estiver trabalhando, escolha uma ocupação pensando no último trabalho dela). \n",
    "- **`Q005`**: Incluindo você, quantas pessoas moram atualmente em sua residência?\n",
    "- **`Q006`**: Qual é a renda mensal de sua família? (Some a sua renda com a dos seus familiares.)\n",
    "- **`Q007`**: Em sua residência trabalha empregado(a) doméstico(a)? \n",
    "- **`Q008`**: Na sua residência tem banheiro?\n",
    "- **`Q009`**: Na sua residência tem quartos para dormir?\n",
    "- **`Q010`**: Na sua residência tem carro?\n",
    "- **`Q011`**: Na sua residência tem motocicleta?\n",
    "- **`Q012`**: Na sua residência tem geladeira?\n",
    "- **`Q013`**: Na sua residência tem freezer (independente ou segunda porta da geladeira)?\n",
    "- **`Q014`**: Na sua residência tem máquina de lavar roupa? (o tanquinho NÃO deve ser considerado)\n",
    "- **`Q015`**: Na sua residência tem máquina de secar roupa (independente ou em conjunto com a máquina de lavar roupa)?\n",
    "- **`Q016`**: Na sua residência tem forno micro-ondas?\n",
    "- **`Q017`**: Na sua residência tem máquina de lavar louça?\n",
    "- **`Q018`**: Na sua residência tem aspirador de pó?\n",
    "- **`Q019`**: Na sua residência tem televisão em cores?\n",
    "- **`Q020`**: Na sua residência tem aparelho de DVD?\n",
    "- **`Q021`**: Na sua residência tem TV por assinatura?\n",
    "- **`Q022`**: Na sua residência tem telefone celular?\n",
    "- **`Q023`**: Na sua residência tem telefone fixo?\n",
    "- **`Q024`**: Na sua residência tem computador?\n",
    "- **`Q025`**: Na sua residência tem acesso à Internet?\n",
    "- **`Q026`**: Você exerce ou já exerceu atividade remunerada?\n",
    "- **`Q027`**: Com que idade você começou a exercer uma atividade remunerada?\n",
    "- **`Q028`**: Quantas horas semanais você trabalha ou trabalhava aproximadamente? (Considere a atividade remunerada mais recente.)\n",
    "- **`Q029`**: Indique a importância de cada um dos motivos abaixo na sua decisão de trabalhar: Ajudar meus pais nas despesas com a casa.\n",
    "- **`Q029`**: Indique a importância de cada um dos motivos abaixo na sua decisão de trabalhar: Ajudar meus pais nas despesas com a casa.\n",
    "- **`Q030`**: Indique a importância de cada um dos motivos abaixo na sua decisão de trabalhar: Sustentar minha família (esposo/a, filhos/as etc.). \n",
    "- **`Q031`**: Indique a importância de cada um dos motivos abaixo na sua decisão de trabalhar: Ser independente/ganhar meu próprio dinheiro. \n",
    "- **`Q032`**: Indique a importância de cada um dos motivos abaixo na sua decisão de trabalhar: Adquirir experiência. \n",
    "- **`Q033`**: Indique a importância de cada um dos motivos abaixo na sua decisão de trabalhar: Custear/pagar meus estudos. \n",
    "- **`Q034`**: Indique os motivos que levaram você a participar do ENEM: Testar meus conhecimentos, para aumentar as minhas chances de ingressar na Educação Superior. \n",
    "- **`Q035`**: Indique os motivos que levaram você a participar do ENEM: Ingressar na Educação Superior pública. \n",
    "- **`Q036`**: Indique os motivos que levaram você a participar do ENEM: Ingressar na Educação Superior privada. \n",
    "- **`Q037`**: Indique os motivos que levaram você a participar do ENEM: Conseguir uma bolsa de estudos (ProUni, outras). \n",
    "- **`Q038`**: Indique os motivos que levaram você a participar do ENEM: Participar do Programa de Financiamento Estudantil - FIES. \n",
    "- **`Q039`**: Indique os motivos que levaram você a participar do ENEM: Participar do Programa Ciências Sem Fronteiras. \n",
    "- **`Q040`**: Indique os motivos que levaram você a participar do ENEM: Aumentar a possibilidade de conseguir um emprego. \n",
    "- **`Q041`**: Indique os motivos que levaram você a participar do ENEM: Progredir no meu emprego atual. \n",
    "- **`Q042`**: Em que tipo de escola você frequentou o Ensino Fundamental?\n",
    "- **`Q043`**: Marque entre as opções abaixo aquela que melhor descreve a modalidade de Ensino Fundamental que você frequentou\n",
    "- **`Q044`**: Em que turno você frequentou o Ensino Fundamental?\n",
    "- **`Q045`**: Durante o Ensino Fundamental, você abandonou os estudos por algum tempo e/ou foi reprovado?\n",
    "- **`Q046`**: Você já concluiu ou está concluindo o Ensino Médio?\n",
    "- **`Q047`**: Em que tipo de escola você frequentou o Ensino Médio?\n",
    "- **`Q048`**: Marque entre as opções abaixo aquela que melhor descreve a modalidade de Ensino Médio que você frequentou\n",
    "- **`Q049`**: Em que turno você frequentou o Ensino Médio?\n",
    "- **`Q050`**: Durante o Ensino Médio, você abandonou os estudos por algum tempo e/ou foi reprovado?"
   ]
  },
  {
   "cell_type": "markdown",
   "metadata": {},
   "source": [
    "### Carrega os dados"
   ]
  },
  {
   "cell_type": "markdown",
   "metadata": {
    "ExecuteTime": {
     "end_time": "2020-05-20T13:32:39.286584Z",
     "start_time": "2020-05-20T13:32:39.280185Z"
    }
   },
   "source": [
    "#### Dados de teste"
   ]
  },
  {
   "cell_type": "code",
   "execution_count": 2,
   "metadata": {
    "ExecuteTime": {
     "end_time": "2020-05-23T15:31:44.087799Z",
     "start_time": "2020-05-23T15:31:44.042394Z"
    }
   },
   "outputs": [
    {
     "name": "stdout",
     "output_type": "stream",
     "text": [
      "Linhas: 4576 | Colunas: 5\n"
     ]
    }
   ],
   "source": [
    "dados = pd.read_csv('test.csv').reset_index(drop=True)\n",
    "\n",
    "colunas_de_notas = [\n",
    "                    'NU_INSCRICAO',\n",
    "                    'NU_NOTA_CN', \n",
    "                    'NU_NOTA_CH', \n",
    "                    'NU_NOTA_LC', \n",
    "                    'NU_NOTA_REDACAO'\n",
    "                  ]\n",
    "\n",
    "\n",
    "test = dados[colunas_de_notas]\n",
    "print(f'Linhas: {test.shape[0]} | Colunas: {test.shape[1]}')"
   ]
  },
  {
   "cell_type": "code",
   "execution_count": 3,
   "metadata": {
    "ExecuteTime": {
     "end_time": "2020-05-23T15:31:44.231171Z",
     "start_time": "2020-05-23T15:31:44.089563Z"
    }
   },
   "outputs": [
    {
     "name": "stdout",
     "output_type": "stream",
     "text": [
      "Linhas: 3360 | Colunas: 5\n"
     ]
    },
    {
     "data": {
      "text/html": [
       "<div>\n",
       "<style scoped>\n",
       "    .dataframe tbody tr th:only-of-type {\n",
       "        vertical-align: middle;\n",
       "    }\n",
       "\n",
       "    .dataframe tbody tr th {\n",
       "        vertical-align: top;\n",
       "    }\n",
       "\n",
       "    .dataframe thead th {\n",
       "        text-align: right;\n",
       "    }\n",
       "</style>\n",
       "<table border=\"1\" class=\"dataframe\">\n",
       "  <thead>\n",
       "    <tr style=\"text-align: right;\">\n",
       "      <th></th>\n",
       "      <th>NU_INSCRICAO</th>\n",
       "      <th>NU_NOTA_CN</th>\n",
       "      <th>NU_NOTA_CH</th>\n",
       "      <th>NU_NOTA_LC</th>\n",
       "      <th>NU_NOTA_REDACAO</th>\n",
       "    </tr>\n",
       "  </thead>\n",
       "  <tbody>\n",
       "    <tr>\n",
       "      <th>0</th>\n",
       "      <td>73ff9fcc02f0a99919906c942c2e1a1042cdcf98</td>\n",
       "      <td>464.8</td>\n",
       "      <td>443.5</td>\n",
       "      <td>431.8</td>\n",
       "      <td>420.0</td>\n",
       "    </tr>\n",
       "    <tr>\n",
       "      <th>1</th>\n",
       "      <td>71a95f9f1b91a82c65ad94abbdf9f54e6066f968</td>\n",
       "      <td>391.1</td>\n",
       "      <td>491.1</td>\n",
       "      <td>548.0</td>\n",
       "      <td>580.0</td>\n",
       "    </tr>\n",
       "    <tr>\n",
       "      <th>2</th>\n",
       "      <td>b38a03232f43b11c9d0788abaf060f7366053b6d</td>\n",
       "      <td>595.9</td>\n",
       "      <td>622.7</td>\n",
       "      <td>613.6</td>\n",
       "      <td>320.0</td>\n",
       "    </tr>\n",
       "    <tr>\n",
       "      <th>3</th>\n",
       "      <td>715494628a50142ce8cb17191cfe6d0f3cae0934</td>\n",
       "      <td>592.9</td>\n",
       "      <td>492.6</td>\n",
       "      <td>571.4</td>\n",
       "      <td>320.0</td>\n",
       "    </tr>\n",
       "    <tr>\n",
       "      <th>4</th>\n",
       "      <td>e656d6bad65c93fb2880f1eba5037008c8e75774</td>\n",
       "      <td>414.5</td>\n",
       "      <td>568.5</td>\n",
       "      <td>542.5</td>\n",
       "      <td>560.0</td>\n",
       "    </tr>\n",
       "  </tbody>\n",
       "</table>\n",
       "</div>"
      ],
      "text/plain": [
       "                               NU_INSCRICAO  NU_NOTA_CN  NU_NOTA_CH  \\\n",
       "0  73ff9fcc02f0a99919906c942c2e1a1042cdcf98       464.8       443.5   \n",
       "1  71a95f9f1b91a82c65ad94abbdf9f54e6066f968       391.1       491.1   \n",
       "2  b38a03232f43b11c9d0788abaf060f7366053b6d       595.9       622.7   \n",
       "3  715494628a50142ce8cb17191cfe6d0f3cae0934       592.9       492.6   \n",
       "4  e656d6bad65c93fb2880f1eba5037008c8e75774       414.5       568.5   \n",
       "\n",
       "   NU_NOTA_LC  NU_NOTA_REDACAO  \n",
       "0       431.8            420.0  \n",
       "1       548.0            580.0  \n",
       "2       613.6            320.0  \n",
       "3       571.4            320.0  \n",
       "4       542.5            560.0  "
      ]
     },
     "execution_count": 3,
     "metadata": {},
     "output_type": "execute_result"
    }
   ],
   "source": [
    "test = test.dropna().reset_index(drop=True)\n",
    "print(f'Linhas: {test.shape[0]} | Colunas: {test.shape[1]}')\n",
    "test.head()"
   ]
  },
  {
   "cell_type": "markdown",
   "metadata": {},
   "source": [
    "#### Dados de treino"
   ]
  },
  {
   "cell_type": "code",
   "execution_count": 4,
   "metadata": {
    "ExecuteTime": {
     "end_time": "2020-05-23T15:31:44.745736Z",
     "start_time": "2020-05-23T15:31:44.235013Z"
    }
   },
   "outputs": [
    {
     "name": "stdout",
     "output_type": "stream",
     "text": [
      "Linhas: 13730 | Colunas: 6\n"
     ]
    }
   ],
   "source": [
    "dados = pd.read_csv('train.csv').reset_index(drop=True)\n",
    "dados.drop(['Unnamed: 0'], axis=1, inplace=True)\n",
    "\n",
    "colunas_de_notas = [\n",
    "                    'NU_INSCRICAO',\n",
    "                    'NU_NOTA_CN', \n",
    "                    'NU_NOTA_CH', \n",
    "                    'NU_NOTA_LC', \n",
    "                    'NU_NOTA_REDACAO', \n",
    "                    'NU_NOTA_MT'\n",
    "                  ]\n",
    "\n",
    "train = dados[colunas_de_notas]\n",
    "print(f'Linhas: {train.shape[0]} | Colunas: {train.shape[1]}')"
   ]
  },
  {
   "cell_type": "code",
   "execution_count": 5,
   "metadata": {
    "ExecuteTime": {
     "end_time": "2020-05-23T15:31:44.763765Z",
     "start_time": "2020-05-23T15:31:44.748048Z"
    }
   },
   "outputs": [
    {
     "name": "stdout",
     "output_type": "stream",
     "text": [
      "Linhas: 10097 | Colunas: 6\n"
     ]
    },
    {
     "data": {
      "text/html": [
       "<div>\n",
       "<style scoped>\n",
       "    .dataframe tbody tr th:only-of-type {\n",
       "        vertical-align: middle;\n",
       "    }\n",
       "\n",
       "    .dataframe tbody tr th {\n",
       "        vertical-align: top;\n",
       "    }\n",
       "\n",
       "    .dataframe thead th {\n",
       "        text-align: right;\n",
       "    }\n",
       "</style>\n",
       "<table border=\"1\" class=\"dataframe\">\n",
       "  <thead>\n",
       "    <tr style=\"text-align: right;\">\n",
       "      <th></th>\n",
       "      <th>NU_INSCRICAO</th>\n",
       "      <th>NU_NOTA_CN</th>\n",
       "      <th>NU_NOTA_CH</th>\n",
       "      <th>NU_NOTA_LC</th>\n",
       "      <th>NU_NOTA_REDACAO</th>\n",
       "      <th>NU_NOTA_MT</th>\n",
       "    </tr>\n",
       "  </thead>\n",
       "  <tbody>\n",
       "    <tr>\n",
       "      <th>0</th>\n",
       "      <td>ed50e8aaa58e7a806c337585efee9ca41f1eb1ad</td>\n",
       "      <td>436.3</td>\n",
       "      <td>495.4</td>\n",
       "      <td>581.2</td>\n",
       "      <td>520.0</td>\n",
       "      <td>399.4</td>\n",
       "    </tr>\n",
       "    <tr>\n",
       "      <th>1</th>\n",
       "      <td>2c3acac4b33ec2b195d77e7c04a2d75727fad723</td>\n",
       "      <td>474.5</td>\n",
       "      <td>544.1</td>\n",
       "      <td>599.0</td>\n",
       "      <td>580.0</td>\n",
       "      <td>459.8</td>\n",
       "    </tr>\n",
       "    <tr>\n",
       "      <th>2</th>\n",
       "      <td>a37c99ec251d4f6e8ddbeabadf1c87fdbfddc4d1</td>\n",
       "      <td>439.7</td>\n",
       "      <td>583.2</td>\n",
       "      <td>410.9</td>\n",
       "      <td>620.0</td>\n",
       "      <td>364.5</td>\n",
       "    </tr>\n",
       "    <tr>\n",
       "      <th>3</th>\n",
       "      <td>63b4e128e9ffe8ab27f5d093db1976ef4f353e0a</td>\n",
       "      <td>420.1</td>\n",
       "      <td>604.2</td>\n",
       "      <td>484.5</td>\n",
       "      <td>560.0</td>\n",
       "      <td>529.2</td>\n",
       "    </tr>\n",
       "    <tr>\n",
       "      <th>4</th>\n",
       "      <td>2eb189d4912f64b19d1967e8e84b6141aba18770</td>\n",
       "      <td>619.6</td>\n",
       "      <td>625.8</td>\n",
       "      <td>611.2</td>\n",
       "      <td>620.0</td>\n",
       "      <td>566.7</td>\n",
       "    </tr>\n",
       "  </tbody>\n",
       "</table>\n",
       "</div>"
      ],
      "text/plain": [
       "                               NU_INSCRICAO  NU_NOTA_CN  NU_NOTA_CH  \\\n",
       "0  ed50e8aaa58e7a806c337585efee9ca41f1eb1ad       436.3       495.4   \n",
       "1  2c3acac4b33ec2b195d77e7c04a2d75727fad723       474.5       544.1   \n",
       "2  a37c99ec251d4f6e8ddbeabadf1c87fdbfddc4d1       439.7       583.2   \n",
       "3  63b4e128e9ffe8ab27f5d093db1976ef4f353e0a       420.1       604.2   \n",
       "4  2eb189d4912f64b19d1967e8e84b6141aba18770       619.6       625.8   \n",
       "\n",
       "   NU_NOTA_LC  NU_NOTA_REDACAO  NU_NOTA_MT  \n",
       "0       581.2            520.0       399.4  \n",
       "1       599.0            580.0       459.8  \n",
       "2       410.9            620.0       364.5  \n",
       "3       484.5            560.0       529.2  \n",
       "4       611.2            620.0       566.7  "
      ]
     },
     "execution_count": 5,
     "metadata": {},
     "output_type": "execute_result"
    }
   ],
   "source": [
    "train = train.dropna().reset_index(drop=True)\n",
    "print(f'Linhas: {train.shape[0]} | Colunas: {train.shape[1]}')\n",
    "train.head()"
   ]
  },
  {
   "cell_type": "markdown",
   "metadata": {},
   "source": [
    "### Média ponderada das notas"
   ]
  },
  {
   "cell_type": "markdown",
   "metadata": {
    "ExecuteTime": {
     "end_time": "2020-05-23T13:48:10.979806Z",
     "start_time": "2020-05-23T13:48:10.694902Z"
    }
   },
   "source": [
    "**`Pesos`**:\n",
    "\n",
    "- matemática: 3\n",
    "- ciências da natureza: 2\n",
    "- linguagens e códigos: 1.5\n",
    "- ciências humanas: 1\n",
    "- redação: 3"
   ]
  },
  {
   "cell_type": "code",
   "execution_count": 6,
   "metadata": {
    "ExecuteTime": {
     "end_time": "2020-05-23T15:31:44.994960Z",
     "start_time": "2020-05-23T15:31:44.765441Z"
    }
   },
   "outputs": [],
   "source": [
    "train['AVERAGE'] = (train['NU_NOTA_CN'] * 2) + (train['NU_NOTA_CH'] * 1) + (train['NU_NOTA_LC'] * 1.5) + (train['NU_NOTA_REDACAO'] * 3) + (train['NU_NOTA_MT'] * 3) / 10.5"
   ]
  },
  {
   "cell_type": "code",
   "execution_count": 7,
   "metadata": {
    "ExecuteTime": {
     "end_time": "2020-05-23T15:31:45.177871Z",
     "start_time": "2020-05-23T15:31:44.999732Z"
    }
   },
   "outputs": [
    {
     "data": {
      "text/html": [
       "<div>\n",
       "<style scoped>\n",
       "    .dataframe tbody tr th:only-of-type {\n",
       "        vertical-align: middle;\n",
       "    }\n",
       "\n",
       "    .dataframe tbody tr th {\n",
       "        vertical-align: top;\n",
       "    }\n",
       "\n",
       "    .dataframe thead th {\n",
       "        text-align: right;\n",
       "    }\n",
       "</style>\n",
       "<table border=\"1\" class=\"dataframe\">\n",
       "  <thead>\n",
       "    <tr style=\"text-align: right;\">\n",
       "      <th></th>\n",
       "      <th>NU_INSCRICAO</th>\n",
       "      <th>NU_NOTA_CN</th>\n",
       "      <th>NU_NOTA_CH</th>\n",
       "      <th>NU_NOTA_LC</th>\n",
       "      <th>NU_NOTA_REDACAO</th>\n",
       "      <th>NU_NOTA_MT</th>\n",
       "      <th>AVERAGE</th>\n",
       "    </tr>\n",
       "  </thead>\n",
       "  <tbody>\n",
       "    <tr>\n",
       "      <th>0</th>\n",
       "      <td>ed50e8aaa58e7a806c337585efee9ca41f1eb1ad</td>\n",
       "      <td>436.3</td>\n",
       "      <td>495.4</td>\n",
       "      <td>581.2</td>\n",
       "      <td>520.0</td>\n",
       "      <td>399.4</td>\n",
       "      <td>3913.914286</td>\n",
       "    </tr>\n",
       "    <tr>\n",
       "      <th>1</th>\n",
       "      <td>2c3acac4b33ec2b195d77e7c04a2d75727fad723</td>\n",
       "      <td>474.5</td>\n",
       "      <td>544.1</td>\n",
       "      <td>599.0</td>\n",
       "      <td>580.0</td>\n",
       "      <td>459.8</td>\n",
       "      <td>4262.971429</td>\n",
       "    </tr>\n",
       "  </tbody>\n",
       "</table>\n",
       "</div>"
      ],
      "text/plain": [
       "                               NU_INSCRICAO  NU_NOTA_CN  NU_NOTA_CH  \\\n",
       "0  ed50e8aaa58e7a806c337585efee9ca41f1eb1ad       436.3       495.4   \n",
       "1  2c3acac4b33ec2b195d77e7c04a2d75727fad723       474.5       544.1   \n",
       "\n",
       "   NU_NOTA_LC  NU_NOTA_REDACAO  NU_NOTA_MT      AVERAGE  \n",
       "0       581.2            520.0       399.4  3913.914286  \n",
       "1       599.0            580.0       459.8  4262.971429  "
      ]
     },
     "execution_count": 7,
     "metadata": {},
     "output_type": "execute_result"
    }
   ],
   "source": [
    "train.head(2)"
   ]
  },
  {
   "cell_type": "code",
   "execution_count": 8,
   "metadata": {
    "ExecuteTime": {
     "end_time": "2020-05-23T15:31:45.350148Z",
     "start_time": "2020-05-23T15:31:45.183233Z"
    }
   },
   "outputs": [],
   "source": [
    "test['AVERAGE'] = (test['NU_NOTA_CN'] * 2) + (test['NU_NOTA_CH'] * 1) + (test['NU_NOTA_LC'] * 1.5) + (test['NU_NOTA_REDACAO'] * 3) / 7.5"
   ]
  },
  {
   "cell_type": "code",
   "execution_count": 9,
   "metadata": {
    "ExecuteTime": {
     "end_time": "2020-05-23T15:31:45.582244Z",
     "start_time": "2020-05-23T15:31:45.357134Z"
    }
   },
   "outputs": [
    {
     "data": {
      "text/html": [
       "<div>\n",
       "<style scoped>\n",
       "    .dataframe tbody tr th:only-of-type {\n",
       "        vertical-align: middle;\n",
       "    }\n",
       "\n",
       "    .dataframe tbody tr th {\n",
       "        vertical-align: top;\n",
       "    }\n",
       "\n",
       "    .dataframe thead th {\n",
       "        text-align: right;\n",
       "    }\n",
       "</style>\n",
       "<table border=\"1\" class=\"dataframe\">\n",
       "  <thead>\n",
       "    <tr style=\"text-align: right;\">\n",
       "      <th></th>\n",
       "      <th>NU_INSCRICAO</th>\n",
       "      <th>NU_NOTA_CN</th>\n",
       "      <th>NU_NOTA_CH</th>\n",
       "      <th>NU_NOTA_LC</th>\n",
       "      <th>NU_NOTA_REDACAO</th>\n",
       "      <th>AVERAGE</th>\n",
       "    </tr>\n",
       "  </thead>\n",
       "  <tbody>\n",
       "    <tr>\n",
       "      <th>0</th>\n",
       "      <td>73ff9fcc02f0a99919906c942c2e1a1042cdcf98</td>\n",
       "      <td>464.8</td>\n",
       "      <td>443.5</td>\n",
       "      <td>431.8</td>\n",
       "      <td>420.0</td>\n",
       "      <td>2188.8</td>\n",
       "    </tr>\n",
       "    <tr>\n",
       "      <th>1</th>\n",
       "      <td>71a95f9f1b91a82c65ad94abbdf9f54e6066f968</td>\n",
       "      <td>391.1</td>\n",
       "      <td>491.1</td>\n",
       "      <td>548.0</td>\n",
       "      <td>580.0</td>\n",
       "      <td>2327.3</td>\n",
       "    </tr>\n",
       "  </tbody>\n",
       "</table>\n",
       "</div>"
      ],
      "text/plain": [
       "                               NU_INSCRICAO  NU_NOTA_CN  NU_NOTA_CH  \\\n",
       "0  73ff9fcc02f0a99919906c942c2e1a1042cdcf98       464.8       443.5   \n",
       "1  71a95f9f1b91a82c65ad94abbdf9f54e6066f968       391.1       491.1   \n",
       "\n",
       "   NU_NOTA_LC  NU_NOTA_REDACAO  AVERAGE  \n",
       "0       431.8            420.0   2188.8  \n",
       "1       548.0            580.0   2327.3  "
      ]
     },
     "execution_count": 9,
     "metadata": {},
     "output_type": "execute_result"
    }
   ],
   "source": [
    "test.head(2)"
   ]
  },
  {
   "cell_type": "markdown",
   "metadata": {},
   "source": [
    "### Variável alvo"
   ]
  },
  {
   "cell_type": "code",
   "execution_count": 10,
   "metadata": {
    "ExecuteTime": {
     "end_time": "2020-05-23T15:31:45.749153Z",
     "start_time": "2020-05-23T15:31:45.587269Z"
    }
   },
   "outputs": [],
   "source": [
    "target = train['NU_NOTA_MT']\n",
    "train.drop(['NU_NOTA_MT'], axis=1, inplace=True)"
   ]
  },
  {
   "cell_type": "markdown",
   "metadata": {},
   "source": [
    "### Modelagem"
   ]
  },
  {
   "cell_type": "code",
   "execution_count": 18,
   "metadata": {
    "ExecuteTime": {
     "end_time": "2020-05-23T15:37:05.230030Z",
     "start_time": "2020-05-23T15:37:05.211334Z"
    }
   },
   "outputs": [],
   "source": [
    "colunas_features = ['NU_NOTA_CN', 'NU_NOTA_CH', 'NU_NOTA_LC', 'NU_NOTA_REDACAO', 'AVERAGE']\n",
    "X = train[colunas_features].to_numpy()\n",
    "X_test = test[colunas_features].to_numpy()"
   ]
  },
  {
   "cell_type": "code",
   "execution_count": 23,
   "metadata": {
    "ExecuteTime": {
     "end_time": "2020-05-23T15:38:24.709983Z",
     "start_time": "2020-05-23T15:38:24.651990Z"
    }
   },
   "outputs": [],
   "source": [
    "from sklearn.linear_model import RidgeCV\n",
    "from sklearn.linear_model import LinearRegression\n",
    "from sklearn.ensemble import ExtraTreesRegressor, RandomForestRegressor, StackingRegressor\n",
    "from sklearn.preprocessing import PolynomialFeatures\n",
    "from sklearn.pipeline import make_pipeline"
   ]
  },
  {
   "cell_type": "code",
   "execution_count": 28,
   "metadata": {
    "ExecuteTime": {
     "end_time": "2020-05-23T15:42:10.846464Z",
     "start_time": "2020-05-23T15:42:10.835263Z"
    }
   },
   "outputs": [],
   "source": [
    "estimators = [\n",
    "    ('rf', RandomForestRegressor()),\n",
    "    ('et', ExtraTreesRegressor(bootstrap=True, max_features=0.4, min_samples_leaf=12, \n",
    "                               min_samples_split=11, n_estimators=100)),\n",
    "    ('rg', RidgeCV())\n",
    "]"
   ]
  },
  {
   "cell_type": "code",
   "execution_count": 29,
   "metadata": {
    "ExecuteTime": {
     "end_time": "2020-05-23T15:42:12.432894Z",
     "start_time": "2020-05-23T15:42:12.430591Z"
    }
   },
   "outputs": [],
   "source": [
    "pipeline = make_pipeline(\n",
    "    PolynomialFeatures(degree=2, include_bias=False, interaction_only=False),\n",
    "    StackingRegressor(estimators=estimators, final_estimator=LinearRegression())\n",
    ")"
   ]
  },
  {
   "cell_type": "code",
   "execution_count": 30,
   "metadata": {
    "ExecuteTime": {
     "end_time": "2020-05-23T15:43:29.127707Z",
     "start_time": "2020-05-23T15:42:13.915014Z"
    }
   },
   "outputs": [
    {
     "data": {
      "text/plain": [
       "0.9635316686311234"
      ]
     },
     "execution_count": 30,
     "metadata": {},
     "output_type": "execute_result"
    }
   ],
   "source": [
    "pipeline.fit(X, target)\n",
    "pipeline.score(X, target)"
   ]
  },
  {
   "cell_type": "code",
   "execution_count": 31,
   "metadata": {
    "ExecuteTime": {
     "end_time": "2020-05-23T15:45:17.702066Z",
     "start_time": "2020-05-23T15:45:17.622190Z"
    }
   },
   "outputs": [],
   "source": [
    "y_pred = pipeline.predict(X_test)"
   ]
  },
  {
   "cell_type": "markdown",
   "metadata": {},
   "source": [
    "### Submissão"
   ]
  },
  {
   "cell_type": "code",
   "execution_count": 32,
   "metadata": {
    "ExecuteTime": {
     "end_time": "2020-05-23T15:45:53.973863Z",
     "start_time": "2020-05-23T15:45:53.903642Z"
    }
   },
   "outputs": [
    {
     "data": {
      "text/html": [
       "<div>\n",
       "<style scoped>\n",
       "    .dataframe tbody tr th:only-of-type {\n",
       "        vertical-align: middle;\n",
       "    }\n",
       "\n",
       "    .dataframe tbody tr th {\n",
       "        vertical-align: top;\n",
       "    }\n",
       "\n",
       "    .dataframe thead th {\n",
       "        text-align: right;\n",
       "    }\n",
       "</style>\n",
       "<table border=\"1\" class=\"dataframe\">\n",
       "  <thead>\n",
       "    <tr style=\"text-align: right;\">\n",
       "      <th></th>\n",
       "      <th>NU_INSCRICAO</th>\n",
       "      <th>NU_NOTA_MT</th>\n",
       "    </tr>\n",
       "  </thead>\n",
       "  <tbody>\n",
       "    <tr>\n",
       "      <th>0</th>\n",
       "      <td>73ff9fcc02f0a99919906c942c2e1a1042cdcf98</td>\n",
       "      <td>374.675005</td>\n",
       "    </tr>\n",
       "    <tr>\n",
       "      <th>1</th>\n",
       "      <td>71a95f9f1b91a82c65ad94abbdf9f54e6066f968</td>\n",
       "      <td>381.163279</td>\n",
       "    </tr>\n",
       "    <tr>\n",
       "      <th>2</th>\n",
       "      <td>b38a03232f43b11c9d0788abaf060f7366053b6d</td>\n",
       "      <td>578.957242</td>\n",
       "    </tr>\n",
       "    <tr>\n",
       "      <th>3</th>\n",
       "      <td>715494628a50142ce8cb17191cfe6d0f3cae0934</td>\n",
       "      <td>492.165075</td>\n",
       "    </tr>\n",
       "    <tr>\n",
       "      <th>4</th>\n",
       "      <td>e656d6bad65c93fb2880f1eba5037008c8e75774</td>\n",
       "      <td>355.333797</td>\n",
       "    </tr>\n",
       "  </tbody>\n",
       "</table>\n",
       "</div>"
      ],
      "text/plain": [
       "                               NU_INSCRICAO  NU_NOTA_MT\n",
       "0  73ff9fcc02f0a99919906c942c2e1a1042cdcf98  374.675005\n",
       "1  71a95f9f1b91a82c65ad94abbdf9f54e6066f968  381.163279\n",
       "2  b38a03232f43b11c9d0788abaf060f7366053b6d  578.957242\n",
       "3  715494628a50142ce8cb17191cfe6d0f3cae0934  492.165075\n",
       "4  e656d6bad65c93fb2880f1eba5037008c8e75774  355.333797"
      ]
     },
     "execution_count": 32,
     "metadata": {},
     "output_type": "execute_result"
    }
   ],
   "source": [
    "desafio_df = test['NU_INSCRICAO'].to_frame()\n",
    "desafio_df['NU_NOTA_MT'] = y_pred\n",
    "\n",
    "desafio_df.to_csv('answer.csv', index=False)\n",
    "desafio_df.head()"
   ]
  },
  {
   "cell_type": "code",
   "execution_count": null,
   "metadata": {},
   "outputs": [],
   "source": []
  }
 ],
 "metadata": {
  "hide_input": false,
  "kernelspec": {
   "display_name": "Python 3",
   "language": "python",
   "name": "python3"
  },
  "language_info": {
   "codemirror_mode": {
    "name": "ipython",
    "version": 3
   },
   "file_extension": ".py",
   "mimetype": "text/x-python",
   "name": "python",
   "nbconvert_exporter": "python",
   "pygments_lexer": "ipython3",
   "version": "3.7.5"
  },
  "toc": {
   "base_numbering": 1,
   "nav_menu": {},
   "number_sections": true,
   "sideBar": true,
   "skip_h1_title": false,
   "title_cell": "Table of Contents",
   "title_sidebar": "Contents",
   "toc_cell": false,
   "toc_position": {},
   "toc_section_display": true,
   "toc_window_display": false
  },
  "varInspector": {
   "cols": {
    "lenName": 16,
    "lenType": 16,
    "lenVar": 40
   },
   "kernels_config": {
    "python": {
     "delete_cmd_postfix": "",
     "delete_cmd_prefix": "del ",
     "library": "var_list.py",
     "varRefreshCmd": "print(var_dic_list())"
    },
    "r": {
     "delete_cmd_postfix": ") ",
     "delete_cmd_prefix": "rm(",
     "library": "var_list.r",
     "varRefreshCmd": "cat(var_dic_list()) "
    }
   },
   "types_to_exclude": [
    "module",
    "function",
    "builtin_function_or_method",
    "instance",
    "_Feature"
   ],
   "window_display": false
  }
 },
 "nbformat": 4,
 "nbformat_minor": 4
}
